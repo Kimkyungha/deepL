{
 "cells": [
  {
   "cell_type": "code",
   "execution_count": 1,
   "metadata": {},
   "outputs": [],
   "source": [
    "# https://github.com/WegraLee/deep-learning-from-scratch"
   ]
  },
  {
   "cell_type": "code",
   "execution_count": 2,
   "metadata": {},
   "outputs": [
    {
     "name": "stdout",
     "output_type": "stream",
     "text": [
      "Collecting pickle5\n",
      "  Downloading pickle5-0.0.11.tar.gz (132 kB)\n",
      "  Preparing metadata (setup.py): started\n",
      "  Preparing metadata (setup.py): finished with status 'done'\n",
      "Building wheels for collected packages: pickle5\n",
      "  Building wheel for pickle5 (setup.py): started\n",
      "  Building wheel for pickle5 (setup.py): finished with status 'error'\n",
      "  Running setup.py clean for pickle5\n",
      "Failed to build pickle5\n"
     ]
    },
    {
     "name": "stderr",
     "output_type": "stream",
     "text": [
      "  error: subprocess-exited-with-error\n",
      "  \n",
      "  × python setup.py bdist_wheel did not run successfully.\n",
      "  │ exit code: 1\n",
      "  ╰─> [83 lines of output]\n",
      "      running bdist_wheel\n",
      "      running build\n",
      "      running build_py\n",
      "      creating build\\lib.win-amd64-cpython-313\\pickle5\n",
      "      copying pickle5\\pickle.py -> build\\lib.win-amd64-cpython-313\\pickle5\n",
      "      copying pickle5\\pickletools.py -> build\\lib.win-amd64-cpython-313\\pickle5\n",
      "      copying pickle5\\__init__.py -> build\\lib.win-amd64-cpython-313\\pickle5\n",
      "      creating build\\lib.win-amd64-cpython-313\\pickle5\\test\n",
      "      copying pickle5\\test\\pickletester.py -> build\\lib.win-amd64-cpython-313\\pickle5\\test\n",
      "      copying pickle5\\test\\test_pickle.py -> build\\lib.win-amd64-cpython-313\\pickle5\\test\n",
      "      copying pickle5\\test\\test_picklebuffer.py -> build\\lib.win-amd64-cpython-313\\pickle5\\test\n",
      "      copying pickle5\\test\\__init__.py -> build\\lib.win-amd64-cpython-313\\pickle5\\test\n",
      "      running build_ext\n",
      "      building 'pickle5._pickle' extension\n",
      "      creating build\\temp.win-amd64-cpython-313\\Release\\pickle5\n",
      "      \"C:\\Program Files\\Microsoft Visual Studio\\2022\\Community\\VC\\Tools\\MSVC\\14.41.34120\\bin\\HostX86\\x64\\cl.exe\" /c /nologo /O2 /W3 /GL /DNDEBUG /MD -IC:\\Users\\TFX5450H\\anaconda3\\envs\\coding\\include -IC:\\Users\\TFX5450H\\anaconda3\\envs\\coding\\Include \"-IC:\\Program Files\\Microsoft Visual Studio\\2022\\Community\\VC\\Tools\\MSVC\\14.41.34120\\include\" \"-IC:\\Program Files\\Microsoft Visual Studio\\2022\\Community\\VC\\Tools\\MSVC\\14.41.34120\\ATLMFC\\include\" \"-IC:\\Program Files\\Microsoft Visual Studio\\2022\\Community\\VC\\Auxiliary\\VS\\include\" \"-IC:\\Program Files (x86)\\Windows Kits\\10\\include\\10.0.22621.0\\ucrt\" \"-IC:\\Program Files (x86)\\Windows Kits\\10\\\\include\\10.0.22621.0\\\\um\" \"-IC:\\Program Files (x86)\\Windows Kits\\10\\\\include\\10.0.22621.0\\\\shared\" \"-IC:\\Program Files (x86)\\Windows Kits\\10\\\\include\\10.0.22621.0\\\\winrt\" \"-IC:\\Program Files (x86)\\Windows Kits\\10\\\\include\\10.0.22621.0\\\\cppwinrt\" /Tcpickle5/_pickle.c /Fobuild\\temp.win-amd64-cpython-313\\Release\\pickle5\\_pickle.obj\n",
      "      _pickle.c\n",
      "      pickle5/_pickle.c(226): warning C4013: '_PyEval_GetBuiltinId'\\xc0\\xcc(\\xb0\\xa1) \\xc1\\xa4\\xc0ǵ\\xc7\\xc1\\xf6 \\xbeʾҽ\\xc0\\xb4ϴ\\xd9. extern\\xc0\\xba int\\xc7\\xfc\\xc0\\xbb \\xb9\\xddȯ\\xc7ϴ\\xc2 \\xb0\\xcd\\xc0\\xb8\\xb7\\xce \\xb0\\xa3\\xc1\\xd6\\xc7մϴ\\xd9.\n",
      "      pickle5/_pickle.c(226): warning C4047: '=': 'PyObject *'\\xc0\\xc7 \\xb0\\xa3\\xc1\\xa2 \\xc2\\xfc\\xc1\\xb6 \\xbc\\xf6\\xc1\\xd8\\xc0\\xcc 'int'\\xb0\\xfa(\\xbf\\xcd) \\xb4ٸ\\xa8\\xb4ϴ\\xd9.\n",
      "      pickle5/_pickle.c(380): warning C4013: '_PyObject_LookupAttrId'\\xc0\\xcc(\\xb0\\xa1) \\xc1\\xa4\\xc0ǵ\\xc7\\xc1\\xf6 \\xbeʾҽ\\xc0\\xb4ϴ\\xd9. extern\\xc0\\xba int\\xc7\\xfc\\xc0\\xbb \\xb9\\xddȯ\\xc7ϴ\\xc2 \\xb0\\xcd\\xc0\\xb8\\xb7\\xce \\xb0\\xa3\\xc1\\xd6\\xc7մϴ\\xd9.\n",
      "      pickle5/_pickle.c(464): error C2106: '=': \\xbf\\xde\\xc2\\xca \\xc7ǿ\\xac\\xbb\\xea\\xc0ڴ\\xc2 l-value\\xc0̾\\xee\\xbe\\xdf \\xc7մϴ\\xd9.\n",
      "      pickle5/_pickle.c(491): error C2106: '=': \\xbf\\xde\\xc2\\xca \\xc7ǿ\\xac\\xbb\\xea\\xc0ڴ\\xc2 l-value\\xc0̾\\xee\\xbe\\xdf \\xc7մϴ\\xd9.\n",
      "      pickle5/_pickle.c(542): error C2105: '--'\\xbf\\xa1 l-value\\xb0\\xa1 \\xc7ʿ\\xe4\\xc7մϴ\\xd9.\n",
      "      pickle5/_pickle.c(552): error C2105: '++'\\xbf\\xa1 l-value\\xb0\\xa1 \\xc7ʿ\\xe4\\xc7մϴ\\xd9.\n",
      "      pickle5/_pickle.c(582): error C2106: '=': \\xbf\\xde\\xc2\\xca \\xc7ǿ\\xac\\xbb\\xea\\xc0ڴ\\xc2 l-value\\xc0̾\\xee\\xbe\\xdf \\xc7մϴ\\xd9.\n",
      "      pickle5/_pickle.c(599): error C2106: '=': \\xbf\\xde\\xc2\\xca \\xc7ǿ\\xac\\xbb\\xea\\xc0ڴ\\xc2 l-value\\xc0̾\\xee\\xbe\\xdf \\xc7մϴ\\xd9.\n",
      "      C:\\Users\\TFX5450H\\AppData\\Local\\Temp\\pip-install-v522_g7m\\pickle5_ca9f9792d04b4432808736ef1ff5c03c\\pickle5\\clinic/_pickle.c.h(120): warning C4013: '_PyArg_UnpackKeywords'\\xc0\\xcc(\\xb0\\xa1) \\xc1\\xa4\\xc0ǵ\\xc7\\xc1\\xf6 \\xbeʾҽ\\xc0\\xb4ϴ\\xd9. extern\\xc0\\xba int\\xc7\\xfc\\xc0\\xbb \\xb9\\xddȯ\\xc7ϴ\\xc2 \\xb0\\xcd\\xc0\\xb8\\xb7\\xce \\xb0\\xa3\\xc1\\xd6\\xc7մϴ\\xd9.\n",
      "      C:\\Users\\TFX5450H\\AppData\\Local\\Temp\\pip-install-v522_g7m\\pickle5_ca9f9792d04b4432808736ef1ff5c03c\\pickle5\\clinic/_pickle.c.h(120): warning C4047: '=': 'PyObject *const *'\\xc0\\xc7 \\xb0\\xa3\\xc1\\xa2 \\xc2\\xfc\\xc1\\xb6 \\xbc\\xf6\\xc1\\xd8\\xc0\\xcc 'int'\\xb0\\xfa(\\xbf\\xcd) \\xb4ٸ\\xa8\\xb4ϴ\\xd9.\n",
      "      C:\\Users\\TFX5450H\\AppData\\Local\\Temp\\pip-install-v522_g7m\\pickle5_ca9f9792d04b4432808736ef1ff5c03c\\pickle5\\clinic/_pickle.c.h(255): warning C4013: '_PyArg_CheckPositional'\\xc0\\xcc(\\xb0\\xa1) \\xc1\\xa4\\xc0ǵ\\xc7\\xc1\\xf6 \\xbeʾҽ\\xc0\\xb4ϴ\\xd9. extern\\xc0\\xba int\\xc7\\xfc\\xc0\\xbb \\xb9\\xddȯ\\xc7ϴ\\xc2 \\xb0\\xcd\\xc0\\xb8\\xb7\\xce \\xb0\\xa3\\xc1\\xd6\\xc7մϴ\\xd9.\n",
      "      C:\\Users\\TFX5450H\\AppData\\Local\\Temp\\pip-install-v522_g7m\\pickle5_ca9f9792d04b4432808736ef1ff5c03c\\pickle5\\clinic/_pickle.c.h(341): warning C4047: '=': 'PyObject *const *'\\xc0\\xc7 \\xb0\\xa3\\xc1\\xa2 \\xc2\\xfc\\xc1\\xb6 \\xbc\\xf6\\xc1\\xd8\\xc0\\xcc 'int'\\xb0\\xfa(\\xbf\\xcd) \\xb4ٸ\\xa8\\xb4ϴ\\xd9.\n",
      "      C:\\Users\\TFX5450H\\AppData\\Local\\Temp\\pip-install-v522_g7m\\pickle5_ca9f9792d04b4432808736ef1ff5c03c\\pickle5\\clinic/_pickle.c.h(360): warning C4013: '_PyArg_BadArgument'\\xc0\\xcc(\\xb0\\xa1) \\xc1\\xa4\\xc0ǵ\\xc7\\xc1\\xf6 \\xbeʾҽ\\xc0\\xb4ϴ\\xd9. extern\\xc0\\xba int\\xc7\\xfc\\xc0\\xbb \\xb9\\xddȯ\\xc7ϴ\\xc2 \\xb0\\xcd\\xc0\\xb8\\xb7\\xce \\xb0\\xa3\\xc1\\xd6\\xc7մϴ\\xd9.\n",
      "      C:\\Users\\TFX5450H\\AppData\\Local\\Temp\\pip-install-v522_g7m\\pickle5_ca9f9792d04b4432808736ef1ff5c03c\\pickle5\\clinic/_pickle.c.h(510): warning C4047: '=': 'PyObject *const *'\\xc0\\xc7 \\xb0\\xa3\\xc1\\xa2 \\xc2\\xfc\\xc1\\xb6 \\xbc\\xf6\\xc1\\xd8\\xc0\\xcc 'int'\\xb0\\xfa(\\xbf\\xcd) \\xb4ٸ\\xa8\\xb4ϴ\\xd9.\n",
      "      C:\\Users\\TFX5450H\\AppData\\Local\\Temp\\pip-install-v522_g7m\\pickle5_ca9f9792d04b4432808736ef1ff5c03c\\pickle5\\clinic/_pickle.c.h(590): warning C4047: '=': 'PyObject *const *'\\xc0\\xc7 \\xb0\\xa3\\xc1\\xa2 \\xc2\\xfc\\xc1\\xb6 \\xbc\\xf6\\xc1\\xd8\\xc0\\xcc 'int'\\xb0\\xfa(\\xbf\\xcd) \\xb4ٸ\\xa8\\xb4ϴ\\xd9.\n",
      "      C:\\Users\\TFX5450H\\AppData\\Local\\Temp\\pip-install-v522_g7m\\pickle5_ca9f9792d04b4432808736ef1ff5c03c\\pickle5\\clinic/_pickle.c.h(676): warning C4047: '=': 'PyObject *const *'\\xc0\\xc7 \\xb0\\xa3\\xc1\\xa2 \\xc2\\xfc\\xc1\\xb6 \\xbc\\xf6\\xc1\\xd8\\xc0\\xcc 'int'\\xb0\\xfa(\\xbf\\xcd) \\xb4ٸ\\xa8\\xb4ϴ\\xd9.\n",
      "      C:\\Users\\TFX5450H\\AppData\\Local\\Temp\\pip-install-v522_g7m\\pickle5_ca9f9792d04b4432808736ef1ff5c03c\\pickle5\\clinic/_pickle.c.h(779): warning C4047: '=': 'PyObject *const *'\\xc0\\xc7 \\xb0\\xa3\\xc1\\xa2 \\xc2\\xfc\\xc1\\xb6 \\xbc\\xf6\\xc1\\xd8\\xc0\\xcc 'int'\\xb0\\xfa(\\xbf\\xcd) \\xb4ٸ\\xa8\\xb4ϴ\\xd9.\n",
      "      pickle5/_pickle.c(1285): warning C4013: '_PyObject_CallNoArg'\\xc0\\xcc(\\xb0\\xa1) \\xc1\\xa4\\xc0ǵ\\xc7\\xc1\\xf6 \\xbeʾҽ\\xc0\\xb4ϴ\\xd9. extern\\xc0\\xba int\\xc7\\xfc\\xc0\\xbb \\xb9\\xddȯ\\xc7ϴ\\xc2 \\xb0\\xcd\\xc0\\xb8\\xb7\\xce \\xb0\\xa3\\xc1\\xd6\\xc7մϴ\\xd9.\n",
      "      pickle5/_pickle.c(1285): warning C4047: '=': 'PyObject *'\\xc0\\xc7 \\xb0\\xa3\\xc1\\xa2 \\xc2\\xfc\\xc1\\xb6 \\xbc\\xf6\\xc1\\xd8\\xc0\\xcc 'int'\\xb0\\xfa(\\xbf\\xcd) \\xb4ٸ\\xa8\\xb4ϴ\\xd9.\n",
      "      pickle5/_pickle.c(1681): warning C4013: '_PyMem_Strdup'\\xc0\\xcc(\\xb0\\xa1) \\xc1\\xa4\\xc0ǵ\\xc7\\xc1\\xf6 \\xbeʾҽ\\xc0\\xb4ϴ\\xd9. extern\\xc0\\xba int\\xc7\\xfc\\xc0\\xbb \\xb9\\xddȯ\\xc7ϴ\\xc2 \\xb0\\xcd\\xc0\\xb8\\xb7\\xce \\xb0\\xa3\\xc1\\xd6\\xc7մϴ\\xd9.\n",
      "      pickle5/_pickle.c(1681): warning C4047: '=': 'char *'\\xc0\\xc7 \\xb0\\xa3\\xc1\\xa2 \\xc2\\xfc\\xc1\\xb6 \\xbc\\xf6\\xc1\\xd8\\xc0\\xcc 'int'\\xb0\\xfa(\\xbf\\xcd) \\xb4ٸ\\xa8\\xb4ϴ\\xd9.\n",
      "      pickle5/_pickle.c(1682): warning C4047: '=': 'char *'\\xc0\\xc7 \\xb0\\xa3\\xc1\\xa2 \\xc2\\xfc\\xc1\\xb6 \\xbc\\xf6\\xc1\\xd8\\xc0\\xcc 'int'\\xb0\\xfa(\\xbf\\xcd) \\xb4ٸ\\xa8\\xb4ϴ\\xd9.\n",
      "      pickle5/_pickle.c(1825): warning C4013: '_PyUnicode_EqualToASCIIString'\\xc0\\xcc(\\xb0\\xa1) \\xc1\\xa4\\xc0ǵ\\xc7\\xc1\\xf6 \\xbeʾҽ\\xc0\\xb4ϴ\\xd9. extern\\xc0\\xba int\\xc7\\xfc\\xc0\\xbb \\xb9\\xddȯ\\xc7ϴ\\xc2 \\xb0\\xcd\\xc0\\xb8\\xb7\\xce \\xb0\\xa3\\xc1\\xd6\\xc7մϴ\\xd9.\n",
      "      pickle5/_pickle.c(1852): warning C4013: '_PyObject_LookupAttr'\\xc0\\xcc(\\xb0\\xa1) \\xc1\\xa4\\xc0ǵ\\xc7\\xc1\\xf6 \\xbeʾҽ\\xc0\\xb4ϴ\\xd9. extern\\xc0\\xba int\\xc7\\xfc\\xc0\\xbb \\xb9\\xddȯ\\xc7ϴ\\xc2 \\xb0\\xcd\\xc0\\xb8\\xb7\\xce \\xb0\\xa3\\xc1\\xd6\\xc7մϴ\\xd9.\n",
      "      pickle5/_pickle.c(1937): warning C4013: '_PySys_GetObjectId'\\xc0\\xcc(\\xb0\\xa1) \\xc1\\xa4\\xc0ǵ\\xc7\\xc1\\xf6 \\xbeʾҽ\\xc0\\xb4ϴ\\xd9. extern\\xc0\\xba int\\xc7\\xfc\\xc0\\xbb \\xb9\\xddȯ\\xc7ϴ\\xc2 \\xb0\\xcd\\xc0\\xb8\\xb7\\xce \\xb0\\xa3\\xc1\\xd6\\xc7մϴ\\xd9.\n",
      "      pickle5/_pickle.c(1937): warning C4047: '=': 'PyObject *'\\xc0\\xc7 \\xb0\\xa3\\xc1\\xa2 \\xc2\\xfc\\xc1\\xb6 \\xbc\\xf6\\xc1\\xd8\\xc0\\xcc 'int'\\xb0\\xfa(\\xbf\\xcd) \\xb4ٸ\\xa8\\xb4ϴ\\xd9.\n",
      "      pickle5/_pickle.c(2182): error C2198: 'int _PyLong_AsByteArray(PyLongObject *,unsigned char *,size_t,int,int,int)': ȣ\\xc3⿡ \\xc0μ\\xf6\\xb0\\xa1 \\xb3ʹ\\xab \\xc0\\xfb\\xbd\\xc0\\xb4ϴ\\xd9.\n",
      "      pickle5/_pickle.c(2255): warning C4013: '_PyFloat_Pack8'\\xc0\\xcc(\\xb0\\xa1) \\xc1\\xa4\\xc0ǵ\\xc7\\xc1\\xf6 \\xbeʾҽ\\xc0\\xb4ϴ\\xd9. extern\\xc0\\xba int\\xc7\\xfc\\xc0\\xbb \\xb9\\xddȯ\\xc7ϴ\\xc2 \\xb0\\xcd\\xc0\\xb8\\xb7\\xce \\xb0\\xa3\\xc1\\xd6\\xc7մϴ\\xd9.\n",
      "      pickle5/_pickle.c(2593): error C2065: '_PyBytesWriter': \\xbc\\xb1\\xbe\\xf0\\xb5\\xc7\\xc1\\xf6 \\xbe\\xca\\xc0\\xba \\xbdĺ\\xb0\\xc0\\xda\\xc0Դϴ\\xd9.\n",
      "      pickle5/_pickle.c(2593): error C2146: \\xb1\\xb8\\xb9\\xae \\xbf\\xc0\\xb7\\xf9: ';'\\xc0\\xcc(\\xb0\\xa1) 'writer' \\xbdĺ\\xb0\\xc0\\xda \\xbeտ\\xa1 \\xbe\\xf8\\xbd\\xc0\\xb4ϴ\\xd9.\n",
      "      pickle5/_pickle.c(2593): error C2065: 'writer': \\xbc\\xb1\\xbe\\xf0\\xb5\\xc7\\xc1\\xf6 \\xbe\\xca\\xc0\\xba \\xbdĺ\\xb0\\xc0\\xda\\xc0Դϴ\\xd9.\n",
      "      pickle5/_pickle.c(2598): warning C4013: '_PyBytesWriter_Init'\\xc0\\xcc(\\xb0\\xa1) \\xc1\\xa4\\xc0ǵ\\xc7\\xc1\\xf6 \\xbeʾҽ\\xc0\\xb4ϴ\\xd9. extern\\xc0\\xba int\\xc7\\xfc\\xc0\\xbb \\xb9\\xddȯ\\xc7ϴ\\xc2 \\xb0\\xcd\\xc0\\xb8\\xb7\\xce \\xb0\\xa3\\xc1\\xd6\\xc7մϴ\\xd9.\n",
      "      pickle5/_pickle.c(2598): error C2065: 'writer': \\xbc\\xb1\\xbe\\xf0\\xb5\\xc7\\xc1\\xf6 \\xbe\\xca\\xc0\\xba \\xbdĺ\\xb0\\xc0\\xda\\xc0Դϴ\\xd9.\n",
      "      pickle5/_pickle.c(2604): warning C4013: '_PyBytesWriter_Alloc'\\xc0\\xcc(\\xb0\\xa1) \\xc1\\xa4\\xc0ǵ\\xc7\\xc1\\xf6 \\xbeʾҽ\\xc0\\xb4ϴ\\xd9. extern\\xc0\\xba int\\xc7\\xfc\\xc0\\xbb \\xb9\\xddȯ\\xc7ϴ\\xc2 \\xb0\\xcd\\xc0\\xb8\\xb7\\xce \\xb0\\xa3\\xc1\\xd6\\xc7մϴ\\xd9.\n",
      "      pickle5/_pickle.c(2604): error C2065: 'writer': \\xbc\\xb1\\xbe\\xf0\\xb5\\xc7\\xc1\\xf6 \\xbe\\xca\\xc0\\xba \\xbdĺ\\xb0\\xc0\\xda\\xc0Դϴ\\xd9.\n",
      "      pickle5/_pickle.c(2604): warning C4047: '=': 'char *'\\xc0\\xc7 \\xb0\\xa3\\xc1\\xa2 \\xc2\\xfc\\xc1\\xb6 \\xbc\\xf6\\xc1\\xd8\\xc0\\xcc 'int'\\xb0\\xfa(\\xbf\\xcd) \\xb4ٸ\\xa8\\xb4ϴ\\xd9.\n",
      "      pickle5/_pickle.c(2607): error C2065: 'writer': \\xbc\\xb1\\xbe\\xf0\\xb5\\xc7\\xc1\\xf6 \\xbe\\xca\\xc0\\xba \\xbdĺ\\xb0\\xc0\\xda\\xc0Դϴ\\xd9.\n",
      "      pickle5/_pickle.c(2607): error C2224: '.overallocate' \\xbf\\xde\\xc2ʿ\\xa1\\xb4\\xc2 \\xb1\\xb8\\xc1\\xb6ü/\\xb0\\xf8\\xbf\\xeb \\xb1\\xb8\\xc1\\xb6ü \\xc7\\xfc\\xbd\\xc4\\xc0\\xcc \\xc0־\\xee\\xbe\\xdf \\xc7մϴ\\xd9.\n",
      "      pickle5/_pickle.c(2614): warning C4013: '_PyBytesWriter_Prepare'\\xc0\\xcc(\\xb0\\xa1) \\xc1\\xa4\\xc0ǵ\\xc7\\xc1\\xf6 \\xbeʾҽ\\xc0\\xb4ϴ\\xd9. extern\\xc0\\xba int\\xc7\\xfc\\xc0\\xbb \\xb9\\xddȯ\\xc7ϴ\\xc2 \\xb0\\xcd\\xc0\\xb8\\xb7\\xce \\xb0\\xa3\\xc1\\xd6\\xc7մϴ\\xd9.\n",
      "      pickle5/_pickle.c(2614): error C2065: 'writer': \\xbc\\xb1\\xbe\\xf0\\xb5\\xc7\\xc1\\xf6 \\xbe\\xca\\xc0\\xba \\xbdĺ\\xb0\\xc0\\xda\\xc0Դϴ\\xd9.\n",
      "      pickle5/_pickle.c(2614): warning C4047: '=': 'char *'\\xc0\\xc7 \\xb0\\xa3\\xc1\\xa2 \\xc2\\xfc\\xc1\\xb6 \\xbc\\xf6\\xc1\\xd8\\xc0\\xcc 'int'\\xb0\\xfa(\\xbf\\xcd) \\xb4ٸ\\xa8\\xb4ϴ\\xd9.\n",
      "      pickle5/_pickle.c(2635): error C2065: 'writer': \\xbc\\xb1\\xbe\\xf0\\xb5\\xc7\\xc1\\xf6 \\xbe\\xca\\xc0\\xba \\xbdĺ\\xb0\\xc0\\xda\\xc0Դϴ\\xd9.\n",
      "      pickle5/_pickle.c(2635): warning C4047: '=': 'char *'\\xc0\\xc7 \\xb0\\xa3\\xc1\\xa2 \\xc2\\xfc\\xc1\\xb6 \\xbc\\xf6\\xc1\\xd8\\xc0\\xcc 'int'\\xb0\\xfa(\\xbf\\xcd) \\xb4ٸ\\xa8\\xb4ϴ\\xd9.\n",
      "      pickle5/_pickle.c(2651): warning C4013: '_PyBytesWriter_Finish'\\xc0\\xcc(\\xb0\\xa1) \\xc1\\xa4\\xc0ǵ\\xc7\\xc1\\xf6 \\xbeʾҽ\\xc0\\xb4ϴ\\xd9. extern\\xc0\\xba int\\xc7\\xfc\\xc0\\xbb \\xb9\\xddȯ\\xc7ϴ\\xc2 \\xb0\\xcd\\xc0\\xb8\\xb7\\xce \\xb0\\xa3\\xc1\\xd6\\xc7մϴ\\xd9.\n",
      "      pickle5/_pickle.c(2651): error C2065: 'writer': \\xbc\\xb1\\xbe\\xf0\\xb5\\xc7\\xc1\\xf6 \\xbe\\xca\\xc0\\xba \\xbdĺ\\xb0\\xc0\\xda\\xc0Դϴ\\xd9.\n",
      "      pickle5/_pickle.c(2651): warning C4047: 'return': 'PyObject *'\\xc0\\xc7 \\xb0\\xa3\\xc1\\xa2 \\xc2\\xfc\\xc1\\xb6 \\xbc\\xf6\\xc1\\xd8\\xc0\\xcc 'int'\\xb0\\xfa(\\xbf\\xcd) \\xb4ٸ\\xa8\\xb4ϴ\\xd9.\n",
      "      pickle5/_pickle.c(2654): warning C4013: '_PyBytesWriter_Dealloc'\\xc0\\xcc(\\xb0\\xa1) \\xc1\\xa4\\xc0ǵ\\xc7\\xc1\\xf6 \\xbeʾҽ\\xc0\\xb4ϴ\\xd9. extern\\xc0\\xba int\\xc7\\xfc\\xc0\\xbb \\xb9\\xddȯ\\xc7ϴ\\xc2 \\xb0\\xcd\\xc0\\xb8\\xb7\\xce \\xb0\\xa3\\xc1\\xd6\\xc7մϴ\\xd9.\n",
      "      pickle5/_pickle.c(2654): error C2065: 'writer': \\xbc\\xb1\\xbe\\xf0\\xb5\\xc7\\xc1\\xf6 \\xbe\\xca\\xc0\\xba \\xbdĺ\\xb0\\xc0\\xda\\xc0Դϴ\\xd9.\n",
      "      pickle5/_pickle.c(3423): warning C4013: '_PySet_NextEntry'\\xc0\\xcc(\\xb0\\xa1) \\xc1\\xa4\\xc0ǵ\\xc7\\xc1\\xf6 \\xbeʾҽ\\xc0\\xb4ϴ\\xd9. extern\\xc0\\xba int\\xc7\\xfc\\xc0\\xbb \\xb9\\xddȯ\\xc7ϴ\\xc2 \\xb0\\xcd\\xc0\\xb8\\xb7\\xce \\xb0\\xa3\\xc1\\xd6\\xc7մϴ\\xd9.\n",
      "      pickle5/_pickle.c(3861): error C2065: '_PyNone_Type': \\xbc\\xb1\\xbe\\xf0\\xb5\\xc7\\xc1\\xf6 \\xbe\\xca\\xc0\\xba \\xbdĺ\\xb0\\xc0\\xda\\xc0Դϴ\\xd9.\n",
      "      pickle5/_pickle.c(3867): error C2065: '_PyNotImplemented_Type': \\xbc\\xb1\\xbe\\xf0\\xb5\\xc7\\xc1\\xf6 \\xbe\\xca\\xc0\\xba \\xbdĺ\\xb0\\xc0\\xda\\xc0Դϴ\\xd9.\n",
      "      pickle5/_pickle.c(4026): warning C4013: '_PyUnicode_EqualToASCIIId'\\xc0\\xcc(\\xb0\\xa1) \\xc1\\xa4\\xc0ǵ\\xc7\\xc1\\xf6 \\xbeʾҽ\\xc0\\xb4ϴ\\xd9. extern\\xc0\\xba int\\xc7\\xfc\\xc0\\xbb \\xb9\\xddȯ\\xc7ϴ\\xc2 \\xb0\\xcd\\xc0\\xb8\\xb7\\xce \\xb0\\xa3\\xc1\\xd6\\xc7մϴ\\xd9.\n",
      "      pickle5/_pickle.c(4452): warning C4047: '=': 'PyObject *'\\xc0\\xc7 \\xb0\\xa3\\xc1\\xa2 \\xc2\\xfc\\xc1\\xb6 \\xbc\\xf6\\xc1\\xd8\\xc0\\xcc 'int'\\xb0\\xfa(\\xbf\\xcd) \\xb4ٸ\\xa8\\xb4ϴ\\xd9.\n",
      "      pickle5/_pickle.c(4626): warning C4013: '_PySys_GetSizeOf'\\xc0\\xcc(\\xb0\\xa1) \\xc1\\xa4\\xc0ǵ\\xc7\\xc1\\xf6 \\xbeʾҽ\\xc0\\xb4ϴ\\xd9. extern\\xc0\\xba int\\xc7\\xfc\\xc0\\xbb \\xb9\\xddȯ\\xc7ϴ\\xc2 \\xb0\\xcd\\xc0\\xb8\\xb7\\xce \\xb0\\xa3\\xc1\\xd6\\xc7մϴ\\xd9.\n",
      "      pickle5/_pickle.c(5137): warning C4013: '_PyObject_CallMethodIdObjArgs'\\xc0\\xcc(\\xb0\\xa1) \\xc1\\xa4\\xc0ǵ\\xc7\\xc1\\xf6 \\xbeʾҽ\\xc0\\xb4ϴ\\xd9. extern\\xc0\\xba int\\xc7\\xfc\\xc0\\xbb \\xb9\\xddȯ\\xc7ϴ\\xc2 \\xb0\\xcd\\xc0\\xb8\\xb7\\xce \\xb0\\xa3\\xc1\\xd6\\xc7մϴ\\xd9.\n",
      "      pickle5/_pickle.c(5137): warning C4047: 'return': 'PyObject *'\\xc0\\xc7 \\xb0\\xa3\\xc1\\xa2 \\xc2\\xfc\\xc1\\xb6 \\xbc\\xf6\\xc1\\xd8\\xc0\\xcc 'int'\\xb0\\xfa(\\xbf\\xcd) \\xb4ٸ\\xa8\\xb4ϴ\\xd9.\n",
      "      pickle5/_pickle.c(5428): warning C4013: '_PyFloat_Unpack8'\\xc0\\xcc(\\xb0\\xa1) \\xc1\\xa4\\xc0ǵ\\xc7\\xc1\\xf6 \\xbeʾҽ\\xc0\\xb4ϴ\\xd9. extern\\xc0\\xba int\\xc7\\xfc\\xc0\\xbb \\xb9\\xddȯ\\xc7ϴ\\xc2 \\xb0\\xcd\\xc0\\xb8\\xb7\\xce \\xb0\\xa3\\xc1\\xd6\\xc7մϴ\\xd9.\n",
      "      pickle5/_pickle.c(5832): warning C4047: 'return': 'PyObject *'\\xc0\\xc7 \\xb0\\xa3\\xc1\\xa2 \\xc2\\xfc\\xc1\\xb6 \\xbc\\xf6\\xc1\\xd8\\xc0\\xcc 'int'\\xb0\\xfa(\\xbf\\xcd) \\xb4ٸ\\xa8\\xb4ϴ\\xd9.\n",
      "      pickle5/_pickle.c(6178): error C2106: '=': \\xbf\\xde\\xc2\\xca \\xc7ǿ\\xac\\xbb\\xea\\xc0ڴ\\xc2 l-value\\xc0̾\\xee\\xbe\\xdf \\xc7մϴ\\xd9.\n",
      "      pickle5/_pickle.c(6535): error C2106: '=': \\xbf\\xde\\xc2\\xca \\xc7ǿ\\xac\\xbb\\xea\\xc0ڴ\\xc2 l-value\\xc0̾\\xee\\xbe\\xdf \\xc7մϴ\\xd9.\n",
      "      pickle5/_pickle.c(6541): error C2106: '=': \\xbf\\xde\\xc2\\xca \\xc7ǿ\\xac\\xbb\\xea\\xc0ڴ\\xc2 l-value\\xc0̾\\xee\\xbe\\xdf \\xc7մϴ\\xd9.\n",
      "      pickle5/_pickle.c(6644): warning C4013: '_PySet_Update'\\xc0\\xcc(\\xb0\\xa1) \\xc1\\xa4\\xc0ǵ\\xc7\\xc1\\xf6 \\xbeʾҽ\\xc0\\xb4ϴ\\xd9. extern\\xc0\\xba int\\xc7\\xfc\\xc0\\xbb \\xb9\\xddȯ\\xc7ϴ\\xc2 \\xb0\\xcd\\xc0\\xb8\\xb7\\xce \\xb0\\xa3\\xc1\\xd6\\xc7մϴ\\xd9.\n",
      "      pickle5/_pickle.c(6663): error C2106: '=': \\xbf\\xde\\xc2\\xca \\xc7ǿ\\xac\\xbb\\xea\\xc0ڴ\\xc2 l-value\\xc0̾\\xee\\xbe\\xdf \\xc7մϴ\\xd9.\n",
      "      pickle5/_pickle.c(6668): error C2106: '=': \\xbf\\xde\\xc2\\xca \\xc7ǿ\\xac\\xbb\\xea\\xc0ڴ\\xc2 l-value\\xc0̾\\xee\\xbe\\xdf \\xc7մϴ\\xd9.\n",
      "      error: command 'C:\\\\Program Files\\\\Microsoft Visual Studio\\\\2022\\\\Community\\\\VC\\\\Tools\\\\MSVC\\\\14.41.34120\\\\bin\\\\HostX86\\\\x64\\\\cl.exe' failed with exit code 2\n",
      "      [end of output]\n",
      "  \n",
      "  note: This error originates from a subprocess, and is likely not a problem with pip.\n",
      "  ERROR: Failed building wheel for pickle5\n",
      "ERROR: ERROR: Failed to build installable wheels for some pyproject.toml based projects (pickle5)\n"
     ]
    }
   ],
   "source": [
    "!pip install pickle5"
   ]
  },
  {
   "cell_type": "code",
   "execution_count": null,
   "metadata": {},
   "outputs": [],
   "source": [
    "import numpy as np\n",
    "import matplotlib.pylab as plt\n",
    "import pickle"
   ]
  },
  {
   "cell_type": "code",
   "execution_count": 5,
   "metadata": {},
   "outputs": [
    {
     "data": {
      "text/plain": [
       "array([False,  True,  True])"
      ]
     },
     "execution_count": 5,
     "metadata": {},
     "output_type": "execute_result"
    }
   ],
   "source": [
    "x = np.array([-1.0, 1.0, 2.0])\n",
    "y = x > 0 \n",
    "y"
   ]
  },
  {
   "cell_type": "code",
   "execution_count": 6,
   "metadata": {},
   "outputs": [],
   "source": [
    "y = y.astype(np.int64) # bool 타입 요소들을 인트로 변환 해주는 astype(np.int) 함수"
   ]
  },
  {
   "cell_type": "code",
   "execution_count": 7,
   "metadata": {},
   "outputs": [
    {
     "data": {
      "text/plain": [
       "array([0, 1, 1])"
      ]
     },
     "execution_count": 7,
     "metadata": {},
     "output_type": "execute_result"
    }
   ],
   "source": [
    "y"
   ]
  },
  {
   "cell_type": "code",
   "execution_count": 8,
   "metadata": {},
   "outputs": [],
   "source": [
    "def step_function(x):\n",
    "  return np.array(x>0, dtype=np.int64)"
   ]
  },
  {
   "cell_type": "code",
   "execution_count": 9,
   "metadata": {},
   "outputs": [
    {
     "data": {
      "image/png": "[encoded data removed]",
      "text/plain": [
       "<Figure size 640x480 with 1 Axes>"
      ]
     },
     "metadata": {},
     "output_type": "display_data"
    }
   ],
   "source": [
    "x = np.arange(-5.0, 5.0, 0.1)\n",
    "y = step_function(x)\n",
    "plt.plot(x,y)\n",
    "plt.ylim(-0.1, 1.1) # y축의 범위 지정\n",
    "plt.show()"
   ]
  },
  {
   "cell_type": "code",
   "execution_count": 10,
   "metadata": {},
   "outputs": [],
   "source": [
    "def sigmoid(x):\n",
    "  return 1 /(1+np.exp(-x))\n",
    " # 넘파이 배열에, exp(-x)를 적용"
   ]
  },
  {
   "cell_type": "code",
   "execution_count": 11,
   "metadata": {},
   "outputs": [
    {
     "data": {
      "text/plain": [
       "array([0.26894142, 0.73105858, 0.88079708])"
      ]
     },
     "execution_count": 11,
     "metadata": {},
     "output_type": "execute_result"
    }
   ],
   "source": [
    "x= np.array([-1.0, 1.0, 2.0])\n",
    "sigmoid(x)"
   ]
  },
  {
   "cell_type": "code",
   "execution_count": 12,
   "metadata": {},
   "outputs": [
    {
     "data": {
      "image/png": "[encoded data removed]",
      "text/plain": [
       "<Figure size 640x480 with 1 Axes>"
      ]
     },
     "metadata": {},
     "output_type": "display_data"
    }
   ],
   "source": [
    "x = np.arange(-5.0, 5.0,0.1)\n",
    "y1 = sigmoid(x)\n",
    "y2 = step_function(x)\n",
    "\n",
    "\n",
    "plt.ylim(-0.1, 1.1)\n",
    "plt.plot(x,y1, label = 'sigmoid')\n",
    "plt.plot(x,y2, linestyle = '--',label='step')\n",
    "plt.xlabel('x') #x축 이름\n",
    "plt.ylabel('y') #y축 이름\n",
    "plt.title('sigmoid&step') # 제목\n",
    "plt.legend() # label 그래프내에 출력\n",
    "plt.show()"
   ]
  },
  {
   "cell_type": "code",
   "execution_count": 13,
   "metadata": {},
   "outputs": [],
   "source": [
    "# 위 그래프와 같이 계단 함수는 0과 1 두가지만 신경망으로 전달하지만\n",
    "# 시그모이드 함수는 연속적인 값을 출력해서 보내준다."
   ]
  },
  {
   "cell_type": "code",
   "execution_count": 14,
   "metadata": {},
   "outputs": [],
   "source": [
    "# 계단함수- 시그모이드의 공통점 : 비선형 함수\n",
    "# 선형함수로는 신경망을 사용하는(깊게하는) 의미가 없다.\n",
    "# 이것은 선형함수는 결국 은닉층을 여러개 만들어도\n",
    "# 결국 하나의 선형함수로 표현이 가능\n",
    "# 은닉층을 쌓을 필요가 없는 것\n",
    "# 층을 쌓는 혜택을 얻고 싶다면 비선형을 쓰자!"
   ]
  },
  {
   "cell_type": "code",
   "execution_count": 15,
   "metadata": {},
   "outputs": [
    {
     "data": {
      "text/plain": [
       "'==================3.2.7 ReLU 함수=============\\n - 시그모이드 함수 대신에 최근에 활성화함수로 많이씀.\\n - 입력이 0을 넘으면 그 입력을 그대로 출력하고,\\n     0이하이면 0을 출력\\n'"
      ]
     },
     "execution_count": 15,
     "metadata": {},
     "output_type": "execute_result"
    }
   ],
   "source": [
    "\"\"\"==================3.2.7 ReLU 함수=============\n",
    " - 시그모이드 함수 대신에 최근에 활성화함수로 많이씀.\n",
    " - 입력이 0을 넘으면 그 입력을 그대로 출력하고,\n",
    "     0이하이면 0을 출력\n",
    "\"\"\""
   ]
  },
  {
   "cell_type": "code",
   "execution_count": 16,
   "metadata": {},
   "outputs": [],
   "source": [
    "def relu(x):\n",
    "  return np.maximum(0,x)\n",
    "  # np.maximum(a,b) : a와 b 둘중 큰값을 선택해 \n",
    "  # 반환해주는함수"
   ]
  },
  {
   "cell_type": "code",
   "execution_count": 17,
   "metadata": {},
   "outputs": [
    {
     "data": {
      "image/png": "[encoded data removed]",
      "text/plain": [
       "<Figure size 640x480 with 1 Axes>"
      ]
     },
     "metadata": {},
     "output_type": "display_data"
    }
   ],
   "source": [
    "x = np.arange(-5.0, 5.0,0.1)\n",
    "y1 = sigmoid(x)\n",
    "y2 = step_function(x)\n",
    "y3 = relu(x)\n",
    "\n",
    "plt.ylim(-0.1, 1.1)\n",
    "plt.plot(x,y1, label = 'sigmoid')\n",
    "plt.plot(x,y2, linestyle = '--',label='step')\n",
    "plt.plot(x,y3,color = 'red', label = 'relu')\n",
    "plt.xlabel('x') #x축 이름\n",
    "plt.ylabel('y') #y축 이름\n",
    "plt.title('sigmoid&step&relu') # 제목\n",
    "plt.legend() # label 그래프내에 출력\n",
    "plt.show()"
   ]
  },
  {
   "cell_type": "code",
   "execution_count": 18,
   "metadata": {},
   "outputs": [],
   "source": [
    "#=========3.3 다차원 배열의 계산================"
   ]
  },
  {
   "cell_type": "code",
   "execution_count": 19,
   "metadata": {},
   "outputs": [],
   "source": [
    "# np 복습\n",
    "import numpy as np\n",
    "A = np.array([1,2,3,4,])\n",
    "B = np.array([[1,2], [3,4], [5,6]])\n",
    "\n",
    "\n"
   ]
  },
  {
   "cell_type": "code",
   "execution_count": 20,
   "metadata": {},
   "outputs": [
    {
     "data": {
      "text/plain": [
       "1"
      ]
     },
     "execution_count": 20,
     "metadata": {},
     "output_type": "execute_result"
    }
   ],
   "source": [
    "np.ndim(A) # 배열의 차원 반환"
   ]
  },
  {
   "cell_type": "code",
   "execution_count": 21,
   "metadata": {},
   "outputs": [
    {
     "data": {
      "text/plain": [
       "2"
      ]
     },
     "execution_count": 21,
     "metadata": {},
     "output_type": "execute_result"
    }
   ],
   "source": [
    "np.ndim(B) # 배열의 차원 반환"
   ]
  },
  {
   "cell_type": "code",
   "execution_count": 22,
   "metadata": {},
   "outputs": [
    {
     "name": "stdout",
     "output_type": "stream",
     "text": [
      "(4,)\n",
      "<class 'tuple'>\n",
      "4\n",
      "<class 'int'>\n",
      "(3, 2)\n",
      "<class 'tuple'>\n",
      "<class 'int'>\n",
      "3\n"
     ]
    }
   ],
   "source": [
    "# .shape : 배열의 행, 열, 높이를 튜플로 가지고 있는 객체변수\n",
    "print(A.shape)\n",
    "print(type(A.shape))\n",
    "print(A.shape[0])\n",
    "print(type(A.shape[0]))\n",
    "\n",
    "print(B.shape)\n",
    "print(type(B.shape))\n",
    "print(type(B.shape[0]))\n",
    "print(B.shape[0])\n"
   ]
  },
  {
   "cell_type": "code",
   "execution_count": 23,
   "metadata": {},
   "outputs": [],
   "source": [
    "# 3.3.1 다차원 배열 \n",
    "# np.dot(a,b) : 행렬 곱 연산\n",
    "  # - 입력이 1차원 이면 백터를 , 2차원이면 행렬곱을 계산합니ㅏㄷ. \n",
    "  # np.dot(a,b)와 np.dot(b,a)는 다를 수 있다."
   ]
  },
  {
   "cell_type": "code",
   "execution_count": 24,
   "metadata": {},
   "outputs": [
    {
     "data": {
      "text/plain": [
       "(2, 3)"
      ]
     },
     "execution_count": 24,
     "metadata": {},
     "output_type": "execute_result"
    }
   ],
   "source": [
    "A = np.array([[1,2,3,], [4,5,6]])\n",
    "A.shape"
   ]
  },
  {
   "cell_type": "code",
   "execution_count": 25,
   "metadata": {},
   "outputs": [
    {
     "data": {
      "text/plain": [
       "(3, 2)"
      ]
     },
     "execution_count": 25,
     "metadata": {},
     "output_type": "execute_result"
    }
   ],
   "source": [
    "B = np.array([[1,2,], [3,4,], [5,6]])\n",
    "B.shape"
   ]
  },
  {
   "cell_type": "code",
   "execution_count": 26,
   "metadata": {},
   "outputs": [],
   "source": [
    "C = np.array([[1,2,], [3,4]])"
   ]
  },
  {
   "cell_type": "code",
   "execution_count": 27,
   "metadata": {},
   "outputs": [
    {
     "data": {
      "text/plain": [
       "array([[22, 28],\n",
       "       [49, 64]])"
      ]
     },
     "execution_count": 27,
     "metadata": {},
     "output_type": "execute_result"
    }
   ],
   "source": [
    "np.dot(A,B)"
   ]
  },
  {
   "cell_type": "code",
   "execution_count": 28,
   "metadata": {},
   "outputs": [
    {
     "data": {
      "text/plain": [
       "array([[ 9, 12, 15],\n",
       "       [19, 26, 33],\n",
       "       [29, 40, 51]])"
      ]
     },
     "execution_count": 28,
     "metadata": {},
     "output_type": "execute_result"
    }
   ],
   "source": [
    "np.dot(B,A)"
   ]
  },
  {
   "cell_type": "code",
   "execution_count": 29,
   "metadata": {},
   "outputs": [
    {
     "data": {
      "text/plain": [
       "array([[ 9, 12, 15],\n",
       "       [19, 26, 33]])"
      ]
     },
     "execution_count": 29,
     "metadata": {},
     "output_type": "execute_result"
    }
   ],
   "source": [
    "#np.dot(A,C) # 에러 뜸\n",
    "np.dot(C,A)"
   ]
  },
  {
   "cell_type": "code",
   "execution_count": 30,
   "metadata": {},
   "outputs": [
    {
     "data": {
      "text/plain": [
       "array([23, 53, 83])"
      ]
     },
     "execution_count": 30,
     "metadata": {},
     "output_type": "execute_result"
    }
   ],
   "source": [
    "A = np.array([[1,2,], [3,4],[5,6]])\n",
    "B = np.array([7,8])\n",
    "np.dot(A,B)"
   ]
  },
  {
   "cell_type": "code",
   "execution_count": 31,
   "metadata": {},
   "outputs": [],
   "source": [
    "X = np.array([1,2])\n",
    "W = np.array([[1,3,5],[2,4,6]])"
   ]
  },
  {
   "cell_type": "code",
   "execution_count": 32,
   "metadata": {},
   "outputs": [
    {
     "data": {
      "text/plain": [
       "array([ 5, 11, 17])"
      ]
     },
     "execution_count": 32,
     "metadata": {},
     "output_type": "execute_result"
    }
   ],
   "source": [
    "np.dot(X,W)"
   ]
  },
  {
   "cell_type": "code",
   "execution_count": 33,
   "metadata": {},
   "outputs": [],
   "source": [
    "# ================== 3층 신경망 구현하기==================="
   ]
  },
  {
   "cell_type": "code",
   "execution_count": 34,
   "metadata": {},
   "outputs": [],
   "source": [
    "X =np.array([1.0, 0.5])\n",
    "W1 = np.array([[0.1, 0.3, 0.5], [0.2, 0.4, 0.6]])\n",
    "B1 = np.array([0.1, 0.2, 0.3])\n",
    "\n",
    "A1 = np.dot(X,W1)+B1"
   ]
  },
  {
   "cell_type": "code",
   "execution_count": 35,
   "metadata": {},
   "outputs": [
    {
     "data": {
      "text/plain": [
       "array([0.3, 0.7, 1.1])"
      ]
     },
     "execution_count": 35,
     "metadata": {},
     "output_type": "execute_result"
    }
   ],
   "source": [
    "A1  # 각 가중치를 더한 값을 저장 a1, a2, a3"
   ]
  },
  {
   "cell_type": "code",
   "execution_count": 36,
   "metadata": {},
   "outputs": [
    {
     "data": {
      "text/plain": [
       "array([0.57444252, 0.66818777, 0.75026011])"
      ]
     },
     "execution_count": 36,
     "metadata": {},
     "output_type": "execute_result"
    }
   ],
   "source": [
    "Z1 = sigmoid(A1) # 각 가중치를 활성화 함수 sigmoid()로 적용\n",
    "Z1"
   ]
  },
  {
   "cell_type": "code",
   "execution_count": 37,
   "metadata": {},
   "outputs": [],
   "source": [
    "# 1층에서 2층으로 가는 가중치 작성\n",
    "W2 = np.array([[0.1,0.4], [0.2,0.5], [0.3,0.6]])\n",
    "B2 = np.array([0.1,0.2])\n",
    "\n",
    "A2 = np.dot(Z1, W2) + B2"
   ]
  },
  {
   "cell_type": "code",
   "execution_count": 38,
   "metadata": {},
   "outputs": [
    {
     "data": {
      "text/plain": [
       "array([0.62624937, 0.7710107 ])"
      ]
     },
     "execution_count": 38,
     "metadata": {},
     "output_type": "execute_result"
    }
   ],
   "source": [
    "Z2 = sigmoid(A2)\n",
    "Z2"
   ]
  },
  {
   "cell_type": "code",
   "execution_count": 39,
   "metadata": {},
   "outputs": [],
   "source": [
    "def identity_function(x):  # 출력층의 활성화 함수는 시그마 기호를 쓴다. 은닉층은 h\n",
    "  return X\n",
    "\n",
    "W3 = np.array([[0.1,0.3],[0.2, 0.4]])\n",
    "B3 = np.array([0.1, 0.2])\n",
    "\n",
    "A3 = np.dot(Z2, W3)+B3\n",
    "Y = identity_function(A3)"
   ]
  },
  {
   "cell_type": "code",
   "execution_count": 40,
   "metadata": {},
   "outputs": [
    {
     "data": {
      "text/plain": [
       "array([1. , 0.5])"
      ]
     },
     "execution_count": 40,
     "metadata": {},
     "output_type": "execute_result"
    }
   ],
   "source": [
    "Y"
   ]
  },
  {
   "cell_type": "code",
   "execution_count": 41,
   "metadata": {},
   "outputs": [],
   "source": [
    "# 신경망은 분류회귀 모두에 이용할 수 있다.\n",
    "# 회귀에선 출력층의 활성화 함수를 일반적으로 항등함수를,\n",
    "# 분류에선 출력층의 활성화 함수를 일반적으로 소프트맥스 함수를 쓴다."
   ]
  },
  {
   "cell_type": "code",
   "execution_count": 42,
   "metadata": {},
   "outputs": [],
   "source": [
    "#=============3.5.1 항등함수와 소프트맥스 함수 구현하기================"
   ]
  },
  {
   "cell_type": "code",
   "execution_count": 43,
   "metadata": {},
   "outputs": [],
   "source": [
    "# 소프트맥스 함수구현\n",
    "# 소프트맥스 함수의 구현의 주의점은 4바이트나 8바이트로 수를 저장하는\n",
    "# 컴퓨터에서 오버플로우가 발생할 수 있다.\n",
    "# 입력신호중 최댓값 C를 통해서 max값을 막을 수 있다.\n",
    "a = np.array([0.3,2.9,4.0])"
   ]
  },
  {
   "cell_type": "code",
   "execution_count": 44,
   "metadata": {},
   "outputs": [
    {
     "name": "stdout",
     "output_type": "stream",
     "text": [
      "[ 1.34985881 18.17414537 54.59815003]\n"
     ]
    }
   ],
   "source": [
    "exp_a = np.exp(a)\n",
    "print(exp_a)"
   ]
  },
  {
   "cell_type": "code",
   "execution_count": 45,
   "metadata": {},
   "outputs": [
    {
     "name": "stdout",
     "output_type": "stream",
     "text": [
      "74.1221542101633\n"
     ]
    }
   ],
   "source": [
    "sum_exp_a = np.sum(exp_a)\n",
    "print(sum_exp_a)"
   ]
  },
  {
   "cell_type": "code",
   "execution_count": 46,
   "metadata": {},
   "outputs": [
    {
     "name": "stdout",
     "output_type": "stream",
     "text": [
      "[0.01821127 0.24519181 0.73659691]\n"
     ]
    }
   ],
   "source": [
    "y = exp_a/sum_exp_a\n",
    "print(y)"
   ]
  },
  {
   "cell_type": "code",
   "execution_count": 47,
   "metadata": {},
   "outputs": [],
   "source": [
    "def softmax(a):\n",
    "\n",
    "  c = np.max(a) #  exp함수의 오버플로우를 막는 배열의 최댓값.\n",
    "  exp_a = np.exp(a-c)\n",
    "  sum_exp_a = np.sum(exp_a)\n",
    "  y = exp_a/sum_exp_a\n",
    "  return y\n"
   ]
  },
  {
   "cell_type": "code",
   "execution_count": 48,
   "metadata": {},
   "outputs": [
    {
     "data": {
      "text/plain": [
       "array([9.99954600e-01, 4.53978686e-05, 2.06106005e-09])"
      ]
     },
     "execution_count": 48,
     "metadata": {},
     "output_type": "execute_result"
    }
   ],
   "source": [
    "a = np.array([1010,1000,990])\n",
    "n = softmax(a)\n",
    "n"
   ]
  },
  {
   "cell_type": "code",
   "execution_count": 49,
   "metadata": {},
   "outputs": [
    {
     "name": "stdout",
     "output_type": "stream",
     "text": [
      "[0.01821127 0.24519181 0.73659691]\n"
     ]
    }
   ],
   "source": [
    "#소프트맥스 함수의 특징\n",
    "# 함수의 출력은 0과 1사이의 값\n",
    "# 출력의 총합은 1, 함수의 출력을 '확률'로 해석할 수 있다.\n",
    "# 소프트맥스 함수는 단조증가함수이므로, 출력의 결과들의 대소가 입력원소들에서 변하지 않는다.\n",
    "\n",
    "\"\"\"일반적으로 신경망을 이용한 분류는 가장 큰 신호를 나타내는 하나의 \n",
    "클래스로만 인식하기에 굳이 소프트맥스함수를 쓰지 않고 생략하는 경우도 많다.\n",
    "지수함수계산비용을 절약하고자함.\"\"\"\n",
    "\n",
    "a= np.array([0.3, 2.9, 4.0])\n",
    "y = softmax(a)\n",
    "print(y)\n",
    "# 1.8%의 확률로 0번째 클래스다.\n",
    "# 24.5%의 확률로 1번째 클래스다.\n",
    "# 73.6% 의 확률로 2번째 클래스다."
   ]
  },
  {
   "cell_type": "code",
   "execution_count": 50,
   "metadata": {},
   "outputs": [
    {
     "name": "stdout",
     "output_type": "stream",
     "text": [
      "1.0\n"
     ]
    }
   ],
   "source": [
    "print(np.sum(y))"
   ]
  },
  {
   "cell_type": "code",
   "execution_count": 51,
   "metadata": {},
   "outputs": [],
   "source": [
    "#============3.5.4 출력층의 뉴런수 정하기===================="
   ]
  },
  {
   "cell_type": "code",
   "execution_count": 52,
   "metadata": {},
   "outputs": [
    {
     "data": {
      "text/plain": [
       "' 학습과정에서 가중치 매개변수를 학습, 추론과정에서 학습한 매개변수를 사용하여 \\n 분류, 추론과정을 신경망의 순전파라고도 한다. '"
      ]
     },
     "execution_count": 52,
     "metadata": {},
     "output_type": "execute_result"
    }
   ],
   "source": [
    "#============3.6 손글씨 숫자 인식==========\n",
    "''' 학습과정에서 가중치 매개변수를 학습, 추론과정에서 학습한 매개변수를 사용하여 \n",
    " 분류, 추론과정을 신경망의 순전파라고도 한다. '''"
   ]
  },
  {
   "cell_type": "code",
   "execution_count": 53,
   "metadata": {},
   "outputs": [],
   "source": [
    "#=================3.6.1 MNIST 데이터셋============"
   ]
  },
  {
   "cell_type": "code",
   "execution_count": 82,
   "metadata": {},
   "outputs": [
    {
     "name": "stdout",
     "output_type": "stream",
     "text": [
      "(60000, 784)\n",
      "(60000,)\n",
      "(10000, 784)\n",
      "(10000,)\n",
      "5\n",
      "(784,)\n",
      "(28, 28)\n"
     ]
    }
   ],
   "source": [
    "import sys, os\n",
    "sys.path.append(os.pardir) # 부모 디렉터리의 파일을 가져올수 있도록 설정\n",
    "from dataset.mnist import load_mnist\n",
    "from PIL import Image\n",
    "\n",
    "(x_train, t_train), (x_test, t_test) =\\\n",
    "load_mnist(flatten = True, normalize=False)\n",
    "# flatten = True : 1차원 numpy 배열로 저장하겠단뜻.\n",
    "# reshape()메소드로  원한느 형상을 인수로 지정해서 넘파이 배열의 형상을 바꿀 수 있음.\n",
    "'''numpy로 저장된 이미지 데이터를 PIL용 데이터 객체로 변환해야하며\n",
    "이것을 Image.fromarray() 가 수행함.'''\n",
    "\n",
    "print(x_train.shape)\n",
    "#print(type(x_train)) ndarray타입\n",
    "print(t_train.shape)\n",
    "print(x_test.shape)\n",
    "print(t_test.shape)\n",
    "\n",
    "def img_show(img):\n",
    "  pil_img =Image.fromarray(np.uint8(img))\n",
    "  pil_img.show()\n",
    "\n",
    "img = x_train[0]\n",
    "label=t_train[0]\n",
    "print(label)\n",
    "\n",
    "print(img.shape)\n",
    "img = img.reshape(28,28)\n",
    "print(img.shape)\n",
    "\n",
    "img_show(img)\n"
   ]
  },
  {
   "cell_type": "code",
   "execution_count": null,
   "metadata": {},
   "outputs": [
    {
     "data": {
      "text/plain": [
       "'\\n추론을 수행하는 신경망 구축\\n  입력층 뉴런 : 784(이미지 크기가 28x28 이기 때문.)\\n  출력층 뉴런 : 10개 (0~9까지)\\n  은닉층 : 2개 = 첫번째 50개 뉴런, 두번째 100개 뉴런\\n        (임의로 정한값.)\\n'"
      ]
     },
     "execution_count": 55,
     "metadata": {},
     "output_type": "execute_result"
    }
   ],
   "source": [
    "# =============3.6.2 신경망의 추론 처리===============\n",
    "'''\n",
    "추론을 수행하는 신경망 구축\n",
    "  입력층 뉴런 : 784(이미지 크기가 28x28 이기 때문.)\n",
    "  출력층 뉴런 : 10개 (0~9까지)\n",
    "  은닉층 : 2개 = 첫번째 50개 뉴런, 두번째 100개 뉴런\n",
    "        (임의로 정한값.)\n",
    "'''\n"
   ]
  },
  {
   "cell_type": "code",
   "execution_count": 76,
   "metadata": {},
   "outputs": [],
   "source": [
    "import os.path\n",
    "import gzip\n",
    "import pickle\n",
    "import os, sys\n",
    "from dataset.mnist import load_mnist\n",
    "from PIL import Image\n",
    "import numpy as np"
   ]
  },
  {
   "cell_type": "code",
   "execution_count": null,
   "metadata": {},
   "outputs": [],
   "source": [
    "# =============3.6.2 신경망의 배치 처리=============="
   ]
  },
  {
   "cell_type": "code",
   "execution_count": 92,
   "metadata": {},
   "outputs": [],
   "source": [
    "\n",
    "\n",
    "\n",
    "def get_data():\n",
    "  (x_train, y_train),(x_test, t_test)=\\\n",
    "      load_mnist(normalize =True, flatten=True, one_hot_label=False)\n",
    "  return x_test, t_test\n",
    "\n",
    "def init_network(): \n",
    "  # pickle 파일 sample_weight.pkl에 저장된 '학습 가중치매개변수'를 읽는다.\n",
    "  # 가중치와 편향매개변수가 딕셔너리 변수로 저장되어있다.\n",
    "  with open('sample_weight.pkl','rb') as f:\n",
    "    network = pickle.load(f)\n",
    "\n",
    "    return network\n",
    "  \n",
    "\n",
    "def predict(network, x):\n",
    "  W1, W2, W3 = network['W1'], network['W2'], network['W3']\n",
    "  b1,b2,b3 = network['b1'], network['b2'], network['b3']\n",
    "\n",
    "  a1 = np.dot(x,W1)+b1\n",
    "  z1 = sigmoid(a1)\n",
    "  a2=np.dot(z1, W2) +b2\n",
    "  z2 = sigmoid(a2)\n",
    "  a3 = np.dot(z2, W3)+b3\n",
    "  y = softmax(a3)\n",
    "\n",
    "  return y"
   ]
  },
  {
   "cell_type": "code",
   "execution_count": 95,
   "metadata": {},
   "outputs": [
    {
     "name": "stdout",
     "output_type": "stream",
     "text": [
      "Accuracy : 0.9352\n"
     ]
    }
   ],
   "source": [
    "x, t = get_data()\n",
    "\n",
    "network=init_network()\n",
    "\n",
    "accuracy_cnt = 0\n",
    "\n",
    "for i in range(len(x)):\n",
    "  y = predict(network, x[i])\n",
    "  p = np.argmax(y) # 확률이 가장 높은 원소의 인덱스를 엍는다.\n",
    "  if p ==t[i]:\n",
    "    accuracy_cnt +=1\n",
    "\n",
    "print(\"Accuracy : \" + str(float(accuracy_cnt)/len(x)))"
   ]
  },
  {
   "cell_type": "code",
   "execution_count": null,
   "metadata": {},
   "outputs": [
    {
     "name": "stdout",
     "output_type": "stream",
     "text": [
      "Current working directory: c:\\Users\\TFX5450H\\Desktop\\ch03\n",
      "File exists: True\n"
     ]
    }
   ],
   "source": []
  },
  {
   "cell_type": "code",
   "execution_count": null,
   "metadata": {},
   "outputs": [
    {
     "name": "stdout",
     "output_type": "stream",
     "text": [
      "0\n",
      "100\n",
      "200\n",
      "300\n",
      "400\n",
      "500\n",
      "600\n",
      "700\n",
      "800\n",
      "900\n",
      "1000\n",
      "1100\n",
      "1200\n",
      "1300\n",
      "1400\n",
      "1500\n",
      "1600\n",
      "1700\n",
      "1800\n",
      "1900\n",
      "2000\n",
      "2100\n",
      "2200\n",
      "2300\n",
      "2400\n",
      "2500\n",
      "2600\n",
      "2700\n",
      "2800\n",
      "2900\n",
      "3000\n",
      "3100\n",
      "3200\n",
      "3300\n",
      "3400\n",
      "3500\n",
      "3600\n",
      "3700\n",
      "3800\n",
      "3900\n",
      "4000\n",
      "4100\n",
      "4200\n",
      "4300\n",
      "4400\n",
      "4500\n",
      "4600\n",
      "4700\n",
      "4800\n",
      "4900\n",
      "5000\n",
      "5100\n",
      "5200\n",
      "5300\n",
      "5400\n",
      "5500\n",
      "5600\n",
      "5700\n",
      "5800\n",
      "5900\n",
      "6000\n",
      "6100\n",
      "6200\n",
      "6300\n",
      "6400\n",
      "6500\n",
      "6600\n",
      "6700\n",
      "6800\n",
      "6900\n",
      "7000\n",
      "7100\n",
      "7200\n",
      "7300\n",
      "7400\n",
      "7500\n",
      "7600\n",
      "7700\n",
      "7800\n",
      "7900\n",
      "8000\n",
      "8100\n",
      "8200\n",
      "8300\n",
      "8400\n",
      "8500\n",
      "8600\n",
      "8700\n",
      "8800\n",
      "8900\n",
      "9000\n",
      "9100\n",
      "9200\n",
      "9300\n",
      "9400\n",
      "9500\n",
      "9600\n",
      "9700\n",
      "9800\n",
      "9900\n"
     ]
    }
   ],
   "source": [
    "x, y = get_data()\n",
    "network = init_network()\n",
    "\n",
    "batch_size = 100 # 배치의 크기\n",
    "accuracy_cnt =0 \n",
    "\n",
    "for i in range(0,len(x), batch_size):\n",
    "  x_batch= x[i:i+batch_size]\n",
    "  y_batch = predict(network, x_batch)\n",
    "  p = np.argmax(y_batch, axis=1)\n",
    "  accuracy_cnt += np.sum(p == t[i:i+batch_size])\n",
    "\n"
   ]
  },
  {
   "cell_type": "code",
   "execution_count": null,
   "metadata": {},
   "outputs": [],
   "source": []
  }
 ],
 "metadata": {
  "kernelspec": {
   "display_name": "coding",
   "language": "python",
   "name": "python3"
  },
  "language_info": {
   "codemirror_mode": {
    "name": "ipython",
    "version": 3
   },
   "file_extension": ".py",
   "mimetype": "text/x-python",
   "name": "python",
   "nbconvert_exporter": "python",
   "pygments_lexer": "ipython3",
   "version": "3.13.2"
  }
 },
 "nbformat": 4,
 "nbformat_minor": 2
}
